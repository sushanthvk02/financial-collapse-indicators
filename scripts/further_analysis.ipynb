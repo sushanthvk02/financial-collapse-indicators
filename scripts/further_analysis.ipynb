# Import necessary libraries
import pandas as pd
import numpy as np
import matplotlib.pyplot as plt
import seaborn as sns
import statsmodels.api as sm
from sklearn.linear_model import LogisticRegression
from sklearn.metrics import classification_report, confusion_matrix
from sklearn.preprocessing import StandardScaler

# Set the style for plots
plt.style.use('seaborn-v0_8-whitegrid')
sns.set_palette("colorblind")
plt.rcParams['figure.figsize'] = (12, 8)
plt.rcParams['font.size'] = 12

# Read the actual data
df = pd.read_csv('financial_collapse_data.csv')

# Display basic information about the dataset
print("Dataset shape:", df.shape)
print("\nFirst few rows:")
print(df.head())

# 1. Year-over-Year Economic Change
# Sort the data by country and year
df = df.sort_values(by=['country', 'year'])

# Calculate year-over-year change in economic_index for each country
df['delta_index'] = df.groupby('country')['economic_index'].diff()

# Plot a histogram of delta_index
plt.figure(figsize=(12, 6))
sns.histplot(data=df, x='delta_index', kde=True, color='steelblue', bins=30)
plt.title('Histogram of Year-over-Year Change in Economic Index', fontsize=16)
plt.xlabel('Change in Economic Index (Current Year - Previous Year)', fontsize=14)
plt.ylabel('Frequency', fontsize=14)
plt.axvline(x=0, color='red', linestyle='--', alpha=0.7)
plt.grid(True, alpha=0.3)
plt.tight_layout()
plt.show()

# Line plot for selected countries
selected_countries = ['Venezuela', 'Germany', 'Zimbabwe', 'China']
# Check if these countries exist in the dataset
available_countries = [country for country in selected_countries if country in df['country'].unique()]

if available_countries:
    plt.figure(figsize=(14, 8))
    for country in available_countries:
        country_data = df[df['country'] == country]
        plt.plot(country_data['year'], country_data['economic_index'], marker='o', 
                linewidth=2, label=country)
    
    plt.title('Economic Index Over Time for Selected Countries', fontsize=16)
    plt.xlabel('Year', fontsize=14)
    plt.ylabel('Economic Index', fontsize=14)
    plt.legend(fontsize=12)
    plt.grid(True, alpha=0.3)
    plt.tight_layout()
    plt.show()
else:
    # If none of the selected countries are in the dataset, choose top countries by data availability
    top_countries = df['country'].value_counts().head(4).index.tolist()
    plt.figure(figsize=(14, 8))
    for country in top_countries:
        country_data = df[df['country'] == country]
        plt.plot(country_data['year'], country_data['economic_index'], marker='o', 
                linewidth=2, label=country)
    
    plt.title('Economic Index Over Time for Top Countries by Data Availability', fontsize=16)
    plt.xlabel('Year', fontsize=14)
    plt.ylabel('Economic Index', fontsize=14)
    plt.legend(fontsize=12)
    plt.grid(True, alpha=0.3)
    plt.tight_layout()
    plt.show()

# 2. Pre-Collapse Early Warning Flag
# Create collapse_flag (1 if delta_index <= -10, 0 otherwise)
df['collapse_flag'] = (df['delta_index'] <= -10).astype(int)

# Calculate percentage of country-years with collapse warning
collapse_pct = df['collapse_flag'].mean() * 100
print(f"\nPercentage of country-years with collapse warning (drop >= 10 points): {collapse_pct:.2f}%")

# Count of collapse events
collapse_count = df['collapse_flag'].sum()
print(f"Total number of collapse events: {collapse_count}")

# Prepare data for logistic regression
# Remove rows with NaN in delta_index (first year for each country)
model_df = df.dropna(subset=['delta_index']).copy()

# Select predictors and target variable
X = model_df[['gdp_growth', 'gov_debt', 'inflation_rate', 'interest_rates', 'black_market', 'cpi']]
y = model_df['collapse_flag']

# Fit logistic regression model using statsmodels for detailed statistics
X_sm = sm.add_constant(X)
logit_model = sm.Logit(y, X_sm).fit(disp=0)  # disp=0 suppresses convergence messages

# Print summary
print("\nLogistic Regression Model Results:")
print(logit_model.summary())

# Identify predictors that increase collapse risk
print("\nFactors that increase collapse risk (positive coefficients):")
for var, coef in logit_model.params.items():
    if var != 'const' and coef > 0:
        p_value = logit_model.pvalues[var]
        if p_value < 0.05:
            print(f"- {var}: coefficient = {coef:.4f}, p-value = {p_value:.4f} (statistically significant)")
        else:
            print(f"- {var}: coefficient = {coef:.4f}, p-value = {p_value:.4f} (not statistically significant)")

print("\nFactors that decrease collapse risk (negative coefficients):")
for var, coef in logit_model.params.items():
    if var != 'const' and coef < 0:
        p_value = logit_model.pvalues[var]
        if p_value < 0.05:
            print(f"- {var}: coefficient = {coef:.4f}, p-value = {p_value:.4f} (statistically significant)")
        else:
            print(f"- {var}: coefficient = {coef:.4f}, p-value = {p_value:.4f} (not statistically significant)")

# Calculate odds ratios for easier interpretation
odds_ratios = np.exp(logit_model.params)
conf_intervals = np.exp(logit_model.conf_int())
conf_intervals.columns = ['2.5%', '97.5%']
odds_ratios_summary = pd.concat([odds_ratios, conf_intervals], axis=1)
odds_ratios_summary = odds_ratios_summary.rename(index={'const': 'Intercept'})

print("\nOdds Ratios (exponentiated coefficients):")
print(odds_ratios_summary)

# Plot coefficients with confidence intervals
plt.figure(figsize=(12, 8))
coefs = logit_model.params.drop('const')
conf_int = logit_model.conf_int().drop('const')
conf_int.columns = ['Lower', 'Upper']

# Create coefficient plot
plt.figure(figsize=(10, 6))
plt.errorbar(
    x=range(len(coefs)),
    y=coefs.values,
    yerr=[(coefs - conf_int['Lower']).values, (conf_int['Upper'] - coefs).values],
    fmt='o',
    capsize=5,
    ecolor='black',
    markersize=10,
    markerfacecolor='steelblue'
)
plt.axhline(y=0, color='red', linestyle='--', alpha=0.7)
plt.xticks(range(len(coefs)), coefs.index, rotation=45, ha='right')
plt.title('Logistic Regression Coefficients with 95% Confidence Intervals', fontsize=16)
plt.ylabel('Coefficient Value', fontsize=14)
plt.grid(True, alpha=0.3)
plt.tight_layout()
plt.show()

# 3. Bonus - Economic Volatility Analysis
# Calculate standard deviation of economic_index for each country
volatility = df.groupby('country')['economic_index'].std().reset_index()
volatility.columns = ['country', 'volatility']

# Plot histogram of country volatility
plt.figure(figsize=(12, 6))
sns.histplot(data=volatility, x='volatility', kde=True, color='purple', bins=20)
plt.title('Distribution of Economic Volatility Across Countries', fontsize=16)
plt.xlabel('Standard Deviation of Economic Index', fontsize=14)
plt.ylabel('Number of Countries', fontsize=14)
plt.grid(True, alpha=0.3)
plt.tight_layout()
plt.show()

# Calculate average predictors for each country
country_predictors = df.groupby('country')[['gdp_growth', 'gov_debt', 'inflation_rate', 
                                         'interest_rates', 'black_market', 'cpi']].mean()

# Merge with volatility data
volatility_data = pd.merge(volatility, country_predictors, on='country')

# Model volatility against predictors
X_vol = volatility_data[['gdp_growth', 'gov_debt', 'inflation_rate', 
                       'interest_rates', 'black_market', 'cpi']]
y_vol = volatility_data['volatility']

# Add constant for intercept
X_vol_sm = sm.add_constant(X_vol)

# Fit OLS model
volatility_model = sm.OLS(y_vol, X_vol_sm).fit()

# Print summary
print("\nVolatility Model Results:")
print(volatility_model.summary())

# Identify significant predictors of volatility
print("\nFactors that significantly explain economic volatility:")
for var, coef in volatility_model.params.items():
    if var != 'const':
        p_value = volatility_model.pvalues[var]
        if p_value < 0.05:
            direction = "increases" if coef > 0 else "decreases"
            print(f"- {var}: coefficient = {coef:.4f}, p-value = {p_value:.4f} ({direction} volatility)")

# Plot actual vs predicted volatility
plt.figure(figsize=(10, 6))
plt.scatter(volatility_model.fittedvalues, y_vol, alpha=0.6, color='darkblue')
plt.plot([y_vol.min(), y_vol.max()], [y_vol.min(), y_vol.max()], 'k--', alpha=0.7)
plt.title('Actual vs Predicted Economic Volatility', fontsize=16)
plt.xlabel('Predicted Volatility', fontsize=14)
plt.ylabel('Actual Volatility', fontsize=14)
plt.grid(True, alpha=0.3)
plt.tight_layout()
plt.show()

# Plot top 10 most volatile countries
top_volatile = volatility.sort_values('volatility', ascending=False).head(10)
plt.figure(figsize=(12, 8))
sns.barplot(data=top_volatile, x='country', y='volatility', palette='viridis')
plt.title('Top 10 Countries by Economic Volatility', fontsize=16)
plt.xlabel('Country', fontsize=14)
plt.ylabel('Volatility (Standard Deviation of Economic Index)', fontsize=14)
plt.xticks(rotation=45, ha='right')
plt.grid(True, axis='y', alpha=0.3)
plt.tight_layout()
plt.show()

# Print summary findings
print("\nSummary of Key Findings:")
print("1. Year-over-Year Economic Change:")
print(f"   - Average annual change in economic index: {df['delta_index'].mean():.2f}")
print(f"   - Standard deviation of annual changes: {df['delta_index'].std():.2f}")

print("\n2. Economic Collapse Risk:")
print(f"   - {collapse_pct:.1f}% of country-years experienced economic collapse (drop ≥ 10 points)")
print("   - Key risk factors from logistic regression:")
for var, coef in logit_model.params.items():
    if var != 'const' and logit_model.pvalues[var] < 0.05:
        direction = "increases" if coef > 0 else "decreases"
        print(f"     * {var}: {direction} collapse risk")

print("\n3. Economic Volatility:")
print(f"   - Average country volatility: {volatility['volatility'].mean():.2f}")
print("   - Key factors explaining volatility:")
for var, coef in volatility_model.params.items():
    if var != 'const' and volatility_model.pvalues[var] < 0.05:
        direction = "increases" if coef > 0 else "decreases"
        print(f"     * {var}: {direction} volatility")

        import pandas as pd
import matplotlib.pyplot as plt
import seaborn as sns
import numpy as np

# Set the style for better looking plots
plt.style.use('seaborn-v0_8-whitegrid')
sns.set_palette("colorblind")
plt.rcParams['figure.figsize'] = (14, 10)
plt.rcParams['font.size'] = 12

# Read the data
df = pd.read_csv('financial_collapse_data.csv')

# Sort the data by country and year
df = df.sort_values(by=['country', 'year'])

# Calculate the year-over-year change in economic_index
df['delta_index'] = df.groupby('country')['economic_index'].diff()

# Define collapse as a drop of 10 or more points
df['collapse'] = (df['delta_index'] <= -10)

# Find countries with collapse events
collapse_events = df[df['collapse']].copy()
collapse_countries = collapse_events['country'].unique().tolist()

# Add Venezuela to the list if it's not already there
if 'Venezuela' not in collapse_countries:
    collapse_countries.append('Venezuela')

# Get unique collapse countries (plus Venezuela)
print(f"Countries with collapse events: {collapse_countries}")

# Filter the data for these countries
filtered_df = df[df['country'].isin(collapse_countries)]

# Create the line plot
plt.figure(figsize=(14, 10))

# Plot each country with a different color
country_colors = sns.color_palette("colorblind", n_colors=len(collapse_countries))
for i, country in enumerate(collapse_countries):
    country_data = filtered_df[filtered_df['country'] == country]
    
    # Plot the economic index over time
    plt.plot(country_data['year'], country_data['economic_index'], 
             marker='o', linewidth=2, label=country, color=country_colors[i])
    
    # Highlight collapse events with a red star
    country_collapse_events = country_data[country_data['collapse']]
    if not country_collapse_events.empty:
        plt.scatter(country_collapse_events['year'], country_collapse_events['economic_index'], 
                    s=200, color='red', marker='*', edgecolor='black', zorder=5)

# Add a title and labels
plt.title('Economic Index Over Time for Countries with Collapse Events', fontsize=18)
plt.xlabel('Year', fontsize=14)
plt.ylabel('Economic Index (0-100)', fontsize=14)

# Add gridlines
plt.grid(True, alpha=0.3)

# Add annotations for collapse events
for country in collapse_countries:
    country_data = filtered_df[filtered_df['country'] == country]
    country_collapse_events = country_data[country_data['collapse']]
    
    for idx, event in country_collapse_events.iterrows():
        plt.annotate(f"{country} ({event['year']})\nDrop: {event['delta_index']:.1f}",
                    xy=(event['year'], event['economic_index']),
                    xytext=(10, -30),
                    textcoords='offset points',
                    arrowprops=dict(arrowstyle='->', connectionstyle='arc3,rad=0.2'),
                    fontsize=11)

# Customize the legend
plt.legend(loc='best', fontsize=12, bbox_to_anchor=(1.05, 1), borderaxespad=0.)

# Adjust layout to make room for the legend
plt.tight_layout(rect=[0, 0, 0.85, 1])

# Show the plot
plt.show()

# Print summary information about collapse events
print("\nCollapse Events (Drops of 10+ points in Economic Index):")
if collapse_events.empty:
    print("No collapse events found in the dataset.")
else:
    # Sort by year for better readability
    collapse_events = collapse_events.sort_values(by='year')
    for idx, event in collapse_events.iterrows():
        print(f"{event['country']} in {event['year']}: Drop of {abs(event['delta_index']):.1f} points " +
              f"(from {event['economic_index'] - event['delta_index']:.1f} to {event['economic_index']:.1f})")
        
# Create a model to predict delta_index instead of economic_index
print("\n===== MODEL FOR PREDICTING CHANGE IN ECONOMIC INDEX =====")
X_delta = model_df[['gdp_growth', 'gov_debt', 'inflation_rate', 'interest_rates', 'black_market', 'cpi']]
y_delta = model_df['delta_index']
X_delta_sm = sm.add_constant(X_delta)

# Fit linear regression model
delta_model = sm.OLS(y_delta, X_delta_sm).fit()

# Print summary
print(delta_model.summary())

# Display the coefficients in a visual format
plt.figure(figsize=(10, 6))
coefs_delta = delta_model.params.drop('const')
conf_int_delta = delta_model.conf_int().drop('const')
conf_int_delta.columns = ['Lower', 'Upper']

plt.errorbar(
    x=range(len(coefs_delta)),
    y=coefs_delta.values,
    yerr=[(coefs_delta - conf_int_delta['Lower']).values, (conf_int_delta['Upper'] - coefs_delta).values],
    fmt='o',
    capsize=5,
    ecolor='black',
    markersize=10,
    markerfacecolor='steelblue'
)
plt.axhline(y=0, color='red', linestyle='--', alpha=0.7)
plt.xticks(range(len(coefs_delta)), coefs_delta.index, rotation=45, ha='right')
plt.title('Linear Regression Coefficients for Predicting Economic Index Change', fontsize=16)
plt.ylabel('Coefficient Value', fontsize=14)
plt.grid(True, alpha=0.3)
plt.tight_layout()
plt.show()

# Create a scatter plot of actual vs predicted values
plt.figure(figsize=(10, 6))
plt.scatter(delta_model.fittedvalues, y_delta, alpha=0.5)
plt.plot([y_delta.min(), y_delta.max()], [y_delta.min(), y_delta.max()], 'k--', alpha=0.7)
plt.title('Actual vs Predicted Change in Economic Index', fontsize=16)
plt.xlabel('Predicted Change', fontsize=14)
plt.ylabel('Actual Change', fontsize=14)
plt.grid(True, alpha=0.3)
plt.tight_layout()
plt.show()


# Set styling for plots
plt.style.use('seaborn-v0_8-whitegrid')
sns.set_palette("colorblind")
plt.rcParams['figure.figsize'] = (12, 8)
plt.rcParams['font.size'] = 12

# Read the data (assuming this is already done in your script)
# df = pd.read_csv('financial_collapse_data.csv')
# df = df.sort_values(by=['country', 'year'])
# df['delta_index'] = df.groupby('country')['economic_index'].diff()

# Prepare data for regression analysis
# Remove rows with NaN in delta_index (first year for each country)
model_df = df.dropna(subset=['delta_index']).copy()

# Select predictors and target variable
X = model_df[['gdp_growth', 'gov_debt', 'inflation_rate', 'interest_rates', 'black_market', 'cpi']]
y = model_df['delta_index']

# Add constant for intercept
X_sm = sm.add_constant(X)

# Fit linear regression model
print("\n===== MULTIPLE LINEAR REGRESSION FOR ECONOMIC INDEX CHANGE =====")
delta_model = sm.OLS(y, X_sm).fit()

# Print summary
print(delta_model.summary())
import pandas as pd
import numpy as np
import matplotlib.pyplot as plt
import seaborn as sns
import statsmodels.api as sm
from statsmodels.stats.outliers_influence import variance_inflation_factor
from sklearn.preprocessing import StandardScaler
from sklearn.linear_model import LinearRegression, Ridge, Lasso, ElasticNet
from sklearn.model_selection import KFold, cross_val_score
import warnings
warnings.filterwarnings('ignore')

# Check for multicollinearity
print("\n===== CHECKING FOR MULTICOLLINEARITY =====")
vif_data = pd.DataFrame()
vif_data["Variable"] = X.columns
vif_data["VIF"] = [variance_inflation_factor(X.values, i) for i in range(X.shape[1])]
print(vif_data)

# Plot coefficients with confidence intervals
plt.figure(figsize=(10, 6))
coefs_delta = delta_model.params.drop('const')
conf_int_delta = delta_model.conf_int().drop('const')
conf_int_delta.columns = ['Lower', 'Upper']

# Sort by absolute magnitude for better visualization
sorted_indices = np.argsort(np.abs(coefs_delta.values))[::-1]
sorted_vars = coefs_delta.index[sorted_indices]
sorted_coefs = coefs_delta.values[sorted_indices]
sorted_lower = conf_int_delta['Lower'].values[sorted_indices]
sorted_upper = conf_int_delta['Upper'].values[sorted_indices]

plt.errorbar(
    x=range(len(sorted_vars)),
    y=sorted_coefs,
    yerr=[(sorted_coefs - sorted_lower), (sorted_upper - sorted_coefs)],
    fmt='o',
    capsize=5,
    ecolor='black',
    markersize=10,
    markerfacecolor='steelblue'
)
plt.axhline(y=0, color='red', linestyle='--', alpha=0.7)
plt.xticks(range(len(sorted_vars)), sorted_vars, rotation=45, ha='right')
plt.title('Linear Regression Coefficients for Predicting Economic Index Change', fontsize=16)
plt.ylabel('Coefficient Value', fontsize=14)
plt.grid(True, alpha=0.3)
plt.tight_layout()
plt.show()

# Create a scatter plot of actual vs predicted values
plt.figure(figsize=(10, 6))
plt.scatter(delta_model.fittedvalues, y, alpha=0.3, color='navy')
plt.plot([y.min(), y.max()], [y.min(), y.max()], 'r--', alpha=0.7)
plt.title('Actual vs Predicted Change in Economic Index', fontsize=16)
plt.xlabel('Predicted Change', fontsize=14)
plt.ylabel('Actual Change', fontsize=14)
plt.grid(True, alpha=0.3)
plt.tight_layout()
plt.show()

# Create residual plots to check regression assumptions
plt.figure(figsize=(12, 10))
plt.subplot(2, 2, 1)
plt.scatter(delta_model.fittedvalues, delta_model.resid, alpha=0.3, color='teal')
plt.axhline(y=0, color='red', linestyle='--', alpha=0.7)
plt.title('Residuals vs Fitted', fontsize=14)
plt.xlabel('Fitted Values', fontsize=12)
plt.ylabel('Residuals', fontsize=12)
plt.grid(True, alpha=0.3)

plt.subplot(2, 2, 2)
from scipy import stats
stats.probplot(delta_model.resid, plot=plt)
plt.title('Normal Q-Q Plot', fontsize=14)
plt.grid(True, alpha=0.3)

plt.subplot(2, 2, 3)
plt.scatter(delta_model.fittedvalues, np.sqrt(np.abs(delta_model.resid)), alpha=0.3, color='darkgreen')
plt.title('Scale-Location Plot', fontsize=14)
plt.xlabel('Fitted Values', fontsize=12)
plt.ylabel('Sqrt(|Residuals|)', fontsize=12)
plt.grid(True, alpha=0.3)

plt.subplot(2, 2, 4)
from statsmodels.graphics.regressionplots import influence_plot
influence_plot(delta_model, ax=plt.gca(), alpha=0.3)
plt.grid(True, alpha=0.3)
plt.title('Influence Plot', fontsize=14)

plt.tight_layout()
plt.show()

# Try other regression techniques for comparison
print("\n===== COMPARING DIFFERENT REGRESSION TECHNIQUES =====")
# Standardize predictors for regularized regression
scaler = StandardScaler()
X_scaled = scaler.fit_transform(X)

# Define models to test
models = {
    "OLS": LinearRegression(),
    "Ridge": Ridge(alpha=1.0),
    "Lasso": Lasso(alpha=0.1),
    "ElasticNet": ElasticNet(alpha=0.1, l1_ratio=0.5)
}

# Perform cross-validation
cv = KFold(n_splits=5, shuffle=True, random_state=42)
cv_results = {}

for name, model in models.items():
    cv_scores = cross_val_score(model, X_scaled, y, cv=cv, scoring='r2')
    cv_results[name] = {
        'Mean R²': cv_scores.mean(),
        'Std R²': cv_scores.std()
    }
    
    # Fit on full dataset and get coefficients
    model.fit(X_scaled, y)
    cv_results[name]['Coefficients'] = dict(zip(X.columns, model.coef_))
    
    if hasattr(model, 'intercept_'):
        cv_results[name]['Intercept'] = model.intercept_

# Print results
results_df = pd.DataFrame({name: {
    'Mean R²': data['Mean R²'],
    'Std R²': data['Std R²']
} for name, data in cv_results.items()}).T

print(results_df)

# Plot coefficients from different models
coef_df = pd.DataFrame({name: data['Coefficients'] for name, data in cv_results.items()})
plt.figure(figsize=(12, 8))
sns.heatmap(coef_df, annot=True, cmap='coolwarm', center=0, fmt='.4f')
plt.title('Regression Coefficients Across Different Models', fontsize=16)
plt.tight_layout()
plt.show()

# Identify most influential predictor variables across models
print("\n===== MOST INFLUENTIAL PREDICTORS ACROSS MODELS =====")
for var in X.columns:
    coeffs = [cv_results[name]['Coefficients'][var] for name in models.keys()]
    avg_impact = np.mean(np.abs(coeffs))
    print(f"{var}: Average absolute coefficient: {avg_impact:.6f}")

print("\n===== CONCLUSION =====")
print(f"Best model R² from cross-validation: {results_df['Mean R²'].max():.6f}")
best_model = results_df['Mean R²'].idxmax()
print(f"Best performing model: {best_model}")

# Final interpretation
print("\nINTERPRETATION:")
print("The linear regression model for predicting economic index changes has:")
print(f"- R-squared: {delta_model.rsquared:.6f}")
print(f"- Adjusted R-squared: {delta_model.rsquared_adj:.6f}")
print(f"- F-statistic: {delta_model.fvalue:.4f} with p-value: {delta_model.f_pvalue:.6f}")
print("\nThis means our model explains only a tiny fraction of the variability in economic index changes,")
print("despite being statistically significant. This suggests that year-to-year economic changes are:")
print("1. Largely driven by factors not captured in our macroeconomic variables")
print("2. Inherently difficult to predict with conventional economic indicators")
print("3. Likely influenced by unexpected events, policy decisions, and global shocks")
