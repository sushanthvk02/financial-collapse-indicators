# Import necessary libraries
import numpy as np
import pandas as pd
import matplotlib.pyplot as plt
import seaborn as sns
from matplotlib import cm
from matplotlib.colors import ListedColormap
from scipy import stats
from sklearn.preprocessing import StandardScaler

# Set the style for the plots
plt.style.use('seaborn-v0_8-whitegrid')
sns.set_palette("colorblind")

# Set figure size for better readability
plt.rcParams['figure.figsize'] = (12, 8)
plt.rcParams['font.size'] = 12

# Read the actual data
df = pd.read_csv('financial_collapse_data.csv')



# Define the model coefficients from the paper
full_model_coefficients = {
    'Intercept': 79.28,
    'gdp_growth': 0.0097,
    'gov_debt': 0.0057,
    'inflation_rate': 0.0020,
    'interest_rates': 0.0155,
    'black_market': -0.7993,
    'cpi': -0.0061
}

reduced_model_coefficients = {
    'Intercept': 79.37,
    'gov_debt': 0.0058,
    'inflation_rate': 0.002031,
    'black_market': -0.7981,
    'cpi': -0.00634
}

# Calculate predictions and residuals
def full_model_prediction(row):
    return (full_model_coefficients['Intercept'] +
            full_model_coefficients['gdp_growth'] * row['gdp_growth'] +
            full_model_coefficients['gov_debt'] * row['gov_debt'] +
            full_model_coefficients['inflation_rate'] * row['inflation_rate'] +
            full_model_coefficients['interest_rates'] * row['interest_rates'] +
            full_model_coefficients['black_market'] * row['black_market'] +
            full_model_coefficients['cpi'] * row['cpi'])

def reduced_model_prediction(row):
    return (reduced_model_coefficients['Intercept'] +
            reduced_model_coefficients['gov_debt'] * row['gov_debt'] +
            reduced_model_coefficients['inflation_rate'] * row['inflation_rate'] +
            reduced_model_coefficients['black_market'] * row['black_market'] +
            reduced_model_coefficients['cpi'] * row['cpi'])

# Apply the models
df['full_fitted'] = df.apply(full_model_prediction, axis=1)
df['full_residual'] = df['economic_index'] - df['full_fitted']
df['reduced_fitted'] = df.apply(reduced_model_prediction, axis=1)
df['reduced_residual'] = df['economic_index'] - df['reduced_fitted']

# Now create the visualizations

# 1. Histogram of economic_index
plt.figure(figsize=(10, 6))
sns.histplot(df['economic_index'], bins=20, kde=True, color='steelblue')
plt.title('Histogram of Economic Index', fontsize=16)
plt.xlabel('Economic Index', fontsize=14)
plt.ylabel('Frequency', fontsize=14)
plt.tight_layout()
plt.show()

# 2. Density curves by continent (if continent data is available)
# Check if we have a continent column, if not try to create one from country data
if 'continent' not in df.columns and 'region' in df.columns:
    continent_column = 'region'
elif 'continent' in df.columns:
    continent_column = 'continent'
else:
    # Try to extract region/continent information from another column
    # This is a placeholder - will need to be adjusted based on your data
    continent_column = None
    print("No continent/region information found. Skipping density curves by continent.")

if continent_column:
    plt.figure(figsize=(12, 7))
    continents = df[continent_column].unique()
    for continent, color in zip(continents, sns.color_palette("colorblind", n_colors=len(continents))):
        sns.kdeplot(df[df[continent_column] == continent]['economic_index'], 
                    label=continent, fill=True, alpha=0.2)
    plt.title('Density Curves of Economic Index by Continent/Region', fontsize=16)
    plt.xlabel('Economic Index', fontsize=14)
    plt.ylabel('Density', fontsize=14)
    plt.legend(title='Continent/Region')
    plt.tight_layout()
    plt.show()

# 3. Correlation heatmap
plt.figure(figsize=(12, 10))

variables = ['economic_index', 'gdp_growth', 'gov_debt', 'inflation_rate', 
             'interest_rates', 'black_market', 'cpi']
corr_matrix = df[variables].corr()
mask = np.triu(np.ones_like(corr_matrix, dtype=bool))

# Custom diverging palette: green (145) to bluish-gray (210), with good contrast
cmap = sns.diverging_palette(210, 145, s=90, l=50, as_cmap=True)

sns.heatmap(corr_matrix, mask=mask, cmap=cmap, vmax=1, vmin=-1, center=0,
            annot=True, fmt='.2f', square=True, linewidths=.5)

plt.title('Correlation Matrix of Variables', fontsize=16)
plt.tight_layout()
plt.show()

# 4. Standardized coefficients bar plot
# Calculate standardized coefficients
variables_for_std = ['gdp_growth', 'gov_debt', 'inflation_rate', 
                    'interest_rates', 'black_market', 'cpi']
std_y = df['economic_index'].std()
std_coeffs = []

for var in variables_for_std:
    std_x = df[var].std()
    std_coef = full_model_coefficients[var] * (std_x / std_y)
    std_coeffs.append({'Variable': var, 'Standardized Coefficient': std_coef})

std_df = pd.DataFrame(std_coeffs)

plt.figure(figsize=(10, 6))
bars = plt.barh(std_df['Variable'], std_df['Standardized Coefficient'])
for i, bar in enumerate(bars):
    if std_df['Standardized Coefficient'].iloc[i] < 0:
        bar.set_color('crimson')
    else:
        bar.set_color('forestgreen')
plt.axvline(x=0, color='black', linestyle='-', linewidth=1)
plt.title('Standardized Coefficients from Full Model', fontsize=16)
plt.xlabel('Standardized Coefficient', fontsize=14)
plt.ylabel('Variable', fontsize=14)
plt.tight_layout()
plt.show()

import matplotlib.pyplot as plt
import scipy.stats as stats
import numpy as np

# Create a 2x2 grid of subplots
fig, axs = plt.subplots(2, 2, figsize=(14, 12))
fig.suptitle('Regression Diagnostic Plots', fontsize=18, fontweight='bold')

# 1. Residuals vs Fitted
axs[0, 0].scatter(df['full_fitted'], df['full_residual'], alpha=0.6, color='teal')
axs[0, 0].axhline(y=0, color='gray', linestyle='--', linewidth=1.5)
axs[0, 0].set_title('Residuals vs Fitted', fontsize=14)
axs[0, 0].set_xlabel('Fitted Values', fontsize=12)
axs[0, 0].set_ylabel('Residuals', fontsize=12)

# 2. Normal Q-Q Plot
stats.probplot(df['full_residual'], dist="norm", plot=axs[0, 1])
axs[0, 1].get_lines()[0].set_color('navy')   # scatter points
axs[0, 1].get_lines()[1].set_color('goldenrod')  # line
axs[0, 1].set_title('Normal Q-Q', fontsize=14)

# 3. Scale-Location Plot (Spread vs Fitted)
axs[1, 0].scatter(df['full_fitted'], np.sqrt(np.abs(df['full_residual'])), alpha=0.6, color='seagreen')
axs[1, 0].set_title('Scale-Location (Spread vs Fitted)', fontsize=14)
axs[1, 0].set_xlabel('Fitted Values', fontsize=12)
axs[1, 0].set_ylabel('Sqrt(|Residuals|)', fontsize=12)
axs[1, 0].axhline(y=np.sqrt(np.abs(df['full_residual'])).mean(), color='gray', linestyle='--', linewidth=1.5)

# 4. Residuals vs Leverage with Cook's Distance
import statsmodels.api as sm

# Build the design matrix for full model
X_full = df[['gdp_growth', 'gov_debt', 'inflation_rate', 
             'interest_rates', 'black_market', 'cpi']]
X_full = sm.add_constant(X_full)
y_full = df['economic_index']

# Fit the OLS model to get influence statistics
model = sm.OLS(y_full, X_full).fit()
influence = model.get_influence()
leverage = influence.hat_matrix_diag
standard_resid = influence.resid_studentized_internal
cooks = influence.cooks_distance[0]
# 4. Residuals vs Leverage with Cook's Distance + Labels
axs[1, 1].scatter(leverage, standard_resid, 
                 s=100 * cooks, alpha=0.6, edgecolors='k', color='steelblue')
axs[1, 1].axhline(0, color='gray', linestyle='--', linewidth=1.5)
axs[1, 1].set_xlabel('Leverage', fontsize=12)
axs[1, 1].set_ylabel('Standardized Residuals', fontsize=12)
axs[1, 1].set_title('Residuals vs Leverage\n(with Cook\'s Distance)', fontsize=14)

# Optional Cook's distance threshold lines
n = model.nobs
threshold = 4 / n
axs[1, 1].axhline(y=np.sqrt(threshold), color='tomato', linestyle=':', linewidth=1)
axs[1, 1].axhline(y=-np.sqrt(threshold), color='tomato', linestyle=':', linewidth=1)
axs[1, 1].set_xlim(0, max(leverage) * 1.1)

# Annotate top 3 influential points by Cook's distance
top_indices = np.argsort(cooks)[-3:]
for i in top_indices:
    label = f"{df.loc[i, 'country']} ({df.loc[i, 'year']})"
    axs[1, 1].annotate(label,
                       xy=(leverage[i], standard_resid[i]),
                       xytext=(5, 5),
                       textcoords='offset points',
                       fontsize=9,
                       color='darkred',
                       arrowprops=dict(arrowstyle='->', lw=1, color='gray'))


# Styling
for ax in axs.flat:
    ax.label_outer()

plt.tight_layout(rect=[0, 0, 1, 0.96])  # Leave space for the suptitle
plt.show()


# 7. R-squared comparison
r_squared = {
    'Full Model': 0.345,  # From the document
    'Reduced Model': 0.344  # From the document
}
plt.figure(figsize=(8, 6))
bars = plt.bar(r_squared.keys(), r_squared.values(), color=['steelblue', 'darkorange'])
plt.title('R² Comparison: Full vs Reduced Model', fontsize=16)
plt.ylabel('R²', fontsize=14)
plt.ylim(0, 0.5)  # Set y-axis limit for better visualization
for i, v in enumerate(r_squared.values()):
    plt.text(i, v + 0.01, f'{v:.3f}', ha='center')
plt.tight_layout()
plt.show()

# 8. Confidence interval plot
conf_int_data = {
    'Model': ['Full Model', 'Reduced Model'],
    'Mean': [54.88, 54.88],  # Same for both models according to document
    'Lower': [54.55, 54.55],
    'Upper': [55.21, 55.21]
}

plt.figure(figsize=(8, 6))
x = np.arange(len(conf_int_data['Model']))
plt.errorbar(x, conf_int_data['Mean'], 
             yerr=[(m - l, u - m) for m, l, u in zip(conf_int_data['Mean'], 
                                                      conf_int_data['Lower'], 
                                                      conf_int_data['Upper'])],
             fmt='o', capsize=5, ecolor='black', markerfacecolor='steelblue', 
             markersize=10)
plt.xticks(x, conf_int_data['Model'])
plt.title('Confidence Intervals for a Typical Observation', fontsize=16)
plt.ylabel('Economic Index', fontsize=14)
plt.ylim(54, 56)  # Set y-axis limit for better visualization
plt.grid(axis='y', linestyle='--', alpha=0.7)
plt.tight_layout()
plt.show()

# 9. World map of economic_index for 2023 (if requested)
# Filter to just 2023 data
if 'year' in df.columns and 2023 in df['year'].unique():
    df_2023 = df[df['year'] == 2023]
    
    # Check if we have country data for mapping
    if 'country' in df.columns:
        try:
            import geopandas as gpd
            
            # Get world map data
            world = gpd.read_file(gpd.datasets.get_path('naturalearth_lowres'))
            
            # Merge data with world map
            merged_data = world.merge(df_2023, left_on='name', right_on='country', how='left')
            
            # Plot map
            fig, ax = plt.subplots(figsize=(15, 10))
            merged_data.plot(column='economic_index', cmap='RdYlGn', linewidth=0.8, ax=ax, edgecolor='0.8',
                             legend=True, missing_kwds={'color': 'lightgrey'})
            
            plt.title('Economic Index by Country (2023)', fontsize=16)
            plt.axis('off')
            plt.tight_layout()
            plt.show()
        except (ImportError, AttributeError):
            print("Geopandas not available or country mapping error. Skipping world map.")

# Run an ANOVA/F-test to compare the full and reduced models
import statsmodels.api as sm

# Refit models using statsmodels for statistical tests
X_full = df[['gdp_growth', 'gov_debt', 'inflation_rate', 'interest_rates', 'black_market', 'cpi']]
X_full = sm.add_constant(X_full)
y = df['economic_index']
model_full_stats = sm.OLS(y, X_full).fit()

X_reduced = df[['gov_debt', 'inflation_rate', 'black_market', 'cpi']]
X_reduced = sm.add_constant(X_reduced)
model_reduced_stats = sm.OLS(y, X_reduced).fit()

# Print model comparison results
print("\n===== MODEL COMPARISON =====")
print(f"Full Model R²: {model_full_stats.rsquared:.4f}")
print(f"Reduced Model R²: {model_reduced_stats.rsquared:.4f}")
print(f"Full Model Adjusted R²: {model_full_stats.rsquared_adj:.4f}")
print(f"Reduced Model Adjusted R²: {model_reduced_stats.rsquared_adj:.4f}")

# F-test comparing models
f_test = model_full_stats.compare_f_test(model_reduced_stats)
print("\nF-test comparing models:")
print(f"F-statistic: {f_test[0]:.4f}")
print(f"p-value: {f_test[1]:.4f}")
if f_test[1] < 0.05:
    print("The full model is significantly better than the reduced model (p<0.05)")
else:
    print("The reduced model is not significantly worse than the full model (p>0.05)")

# Calculate and display standardized coefficients for both models
print("\n===== STANDARDIZED COEFFICIENTS =====")
print("Full Model:")
std_y = df['economic_index'].std()

full_std_coeffs = {}
for var in model_full_stats.params.index:
    if var != 'const':
        std_x = df[var].std()
        std_coef = model_full_stats.params[var] * (std_x / std_y)
        full_std_coeffs[var] = std_coef

# Sort by absolute magnitude
sorted_full = sorted(full_std_coeffs.items(), key=lambda x: abs(x[1]), reverse=True)
for var, coef in sorted_full:
    print(f"{var}: {coef:.4f}")

print("\nReduced Model:")
reduced_std_coeffs = {}
for var in model_reduced_stats.params.index:
    if var != 'const':
        std_x = df[var].std()
        std_coef = model_reduced_stats.params[var] * (std_x / std_y)
        reduced_std_coeffs[var] = std_coef

# Sort by absolute magnitude
sorted_reduced = sorted(reduced_std_coeffs.items(), key=lambda x: abs(x[1]), reverse=True)
for var, coef in sorted_reduced:
    print(f"{var}: {coef:.4f}")

# Create a bar chart comparing standardized coefficients
plt.figure(figsize=(12, 8))

# Get all unique variables
all_vars = list(set(list(full_std_coeffs.keys()) + list(reduced_std_coeffs.keys())))
all_vars.sort()

# Prepare data for bar chart
x = np.arange(len(all_vars))
width = 0.35

# Create bars
full_values = [full_std_coeffs.get(var, 0) for var in all_vars]
reduced_values = [reduced_std_coeffs.get(var, 0) for var in all_vars]

plt.bar(x - width/2, full_values, width, label='Full Model', color='steelblue')
plt.bar(x + width/2, reduced_values, width, label='Reduced Model', color='darkorange')

# Add labels and legend
plt.xlabel('Variables', fontsize=14)
plt.ylabel('Standardized Coefficient', fontsize=14)
plt.title('Standardized Coefficients Comparison', fontsize=16)
plt.xticks(x, all_vars, rotation=45, ha='right')
plt.axhline(y=0, color='black', linestyle='-', linewidth=1)
plt.legend()
plt.grid(axis='y', linestyle='--', alpha=0.3)
plt.tight_layout()
plt.show()
